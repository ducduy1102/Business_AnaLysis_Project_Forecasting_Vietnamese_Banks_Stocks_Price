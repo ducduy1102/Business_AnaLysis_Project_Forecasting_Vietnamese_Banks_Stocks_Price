{
 "cells": [
  {
   "cell_type": "markdown",
   "metadata": {},
   "source": [
    "### Bước 1: Khai báo thư viện"
   ]
  },
  {
   "cell_type": "code",
   "execution_count": 1,
   "metadata": {},
   "outputs": [],
   "source": [
    "#Khai báo thư viện\n",
    "import pandas as pd # Đọc dữ liệu\n",
    "import numpy as np # Xử lý dữ liệu\n",
    "import matplotlib.pyplot as plt # Vẽ biểu đồ"
   ]
  },
  {
   "cell_type": "markdown",
   "metadata": {},
   "source": [
    "### Bước 2: Đọc dữ liệu"
   ]
  },
  {
   "cell_type": "code",
   "execution_count": 2,
   "metadata": {},
   "outputs": [],
   "source": [
    "# Load dữ liệu\n",
    "df = pd.read_csv(\"BID Historical Data.csv\")"
   ]
  },
  {
   "cell_type": "markdown",
   "metadata": {},
   "source": [
    "### Bước 3: Mô tả dữ liệu"
   ]
  },
  {
   "cell_type": "code",
   "execution_count": 3,
   "metadata": {},
   "outputs": [],
   "source": [
    "#Định dạng lại cột Date từ obj -> datetime\n",
    "df['Date'] = pd.to_datetime(df['Date'])\n",
    "# data.set_index('Date', inplace=True)"
   ]
  },
  {
   "cell_type": "code",
   "execution_count": 4,
   "metadata": {},
   "outputs": [
    {
     "data": {
      "text/plain": [
       "(1376, 7)"
      ]
     },
     "execution_count": 4,
     "metadata": {},
     "output_type": "execute_result"
    }
   ],
   "source": [
    "# Kích thước dữ liệu\n",
    "df.shape"
   ]
  },
  {
   "cell_type": "code",
   "execution_count": 5,
   "metadata": {},
   "outputs": [
    {
     "data": {
      "text/html": [
       "<div>\n",
       "<style scoped>\n",
       "    .dataframe tbody tr th:only-of-type {\n",
       "        vertical-align: middle;\n",
       "    }\n",
       "\n",
       "    .dataframe tbody tr th {\n",
       "        vertical-align: top;\n",
       "    }\n",
       "\n",
       "    .dataframe thead th {\n",
       "        text-align: right;\n",
       "    }\n",
       "</style>\n",
       "<table border=\"1\" class=\"dataframe\">\n",
       "  <thead>\n",
       "    <tr style=\"text-align: right;\">\n",
       "      <th></th>\n",
       "      <th>Date</th>\n",
       "      <th>Price</th>\n",
       "      <th>Open</th>\n",
       "      <th>High</th>\n",
       "      <th>Low</th>\n",
       "      <th>Vol.</th>\n",
       "      <th>Change %</th>\n",
       "    </tr>\n",
       "  </thead>\n",
       "  <tbody>\n",
       "    <tr>\n",
       "      <th>0</th>\n",
       "      <td>2017-12-01</td>\n",
       "      <td>19516.3</td>\n",
       "      <td>19592.8</td>\n",
       "      <td>19631.1</td>\n",
       "      <td>19439.7</td>\n",
       "      <td>1.65M</td>\n",
       "      <td>-0.58%</td>\n",
       "    </tr>\n",
       "    <tr>\n",
       "      <th>1</th>\n",
       "      <td>2017-12-04</td>\n",
       "      <td>19516.3</td>\n",
       "      <td>19669.3</td>\n",
       "      <td>20052.0</td>\n",
       "      <td>19516.3</td>\n",
       "      <td>1.27M</td>\n",
       "      <td>0.00%</td>\n",
       "    </tr>\n",
       "    <tr>\n",
       "      <th>2</th>\n",
       "      <td>2017-12-05</td>\n",
       "      <td>19057.0</td>\n",
       "      <td>19669.3</td>\n",
       "      <td>19669.3</td>\n",
       "      <td>19057.0</td>\n",
       "      <td>3.06M</td>\n",
       "      <td>-2.35%</td>\n",
       "    </tr>\n",
       "    <tr>\n",
       "      <th>3</th>\n",
       "      <td>2017-12-06</td>\n",
       "      <td>19018.8</td>\n",
       "      <td>18904.0</td>\n",
       "      <td>19057.0</td>\n",
       "      <td>18750.9</td>\n",
       "      <td>2.33M</td>\n",
       "      <td>-0.20%</td>\n",
       "    </tr>\n",
       "    <tr>\n",
       "      <th>4</th>\n",
       "      <td>2017-12-07</td>\n",
       "      <td>19133.6</td>\n",
       "      <td>19133.6</td>\n",
       "      <td>19248.4</td>\n",
       "      <td>18789.2</td>\n",
       "      <td>808.64K</td>\n",
       "      <td>0.60%</td>\n",
       "    </tr>\n",
       "    <tr>\n",
       "      <th>...</th>\n",
       "      <td>...</td>\n",
       "      <td>...</td>\n",
       "      <td>...</td>\n",
       "      <td>...</td>\n",
       "      <td>...</td>\n",
       "      <td>...</td>\n",
       "      <td>...</td>\n",
       "    </tr>\n",
       "    <tr>\n",
       "      <th>1371</th>\n",
       "      <td>2023-06-05</td>\n",
       "      <td>44700.0</td>\n",
       "      <td>44900.0</td>\n",
       "      <td>45350.0</td>\n",
       "      <td>44700.0</td>\n",
       "      <td>959.10K</td>\n",
       "      <td>0.00%</td>\n",
       "    </tr>\n",
       "    <tr>\n",
       "      <th>1372</th>\n",
       "      <td>2023-06-06</td>\n",
       "      <td>44800.0</td>\n",
       "      <td>45000.0</td>\n",
       "      <td>45000.0</td>\n",
       "      <td>44300.0</td>\n",
       "      <td>846.10K</td>\n",
       "      <td>0.22%</td>\n",
       "    </tr>\n",
       "    <tr>\n",
       "      <th>1373</th>\n",
       "      <td>2023-06-07</td>\n",
       "      <td>44350.0</td>\n",
       "      <td>44800.0</td>\n",
       "      <td>44900.0</td>\n",
       "      <td>44350.0</td>\n",
       "      <td>967.70K</td>\n",
       "      <td>-1.00%</td>\n",
       "    </tr>\n",
       "    <tr>\n",
       "      <th>1374</th>\n",
       "      <td>2023-06-08</td>\n",
       "      <td>43700.0</td>\n",
       "      <td>44400.0</td>\n",
       "      <td>44500.0</td>\n",
       "      <td>43700.0</td>\n",
       "      <td>1.66M</td>\n",
       "      <td>-1.47%</td>\n",
       "    </tr>\n",
       "    <tr>\n",
       "      <th>1375</th>\n",
       "      <td>2023-06-09</td>\n",
       "      <td>43450.0</td>\n",
       "      <td>43800.0</td>\n",
       "      <td>44050.0</td>\n",
       "      <td>43100.0</td>\n",
       "      <td>1.29M</td>\n",
       "      <td>-0.57%</td>\n",
       "    </tr>\n",
       "  </tbody>\n",
       "</table>\n",
       "<p>1376 rows × 7 columns</p>\n",
       "</div>"
      ],
      "text/plain": [
       "           Date    Price     Open     High      Low     Vol. Change %\n",
       "0    2017-12-01  19516.3  19592.8  19631.1  19439.7    1.65M   -0.58%\n",
       "1    2017-12-04  19516.3  19669.3  20052.0  19516.3    1.27M    0.00%\n",
       "2    2017-12-05  19057.0  19669.3  19669.3  19057.0    3.06M   -2.35%\n",
       "3    2017-12-06  19018.8  18904.0  19057.0  18750.9    2.33M   -0.20%\n",
       "4    2017-12-07  19133.6  19133.6  19248.4  18789.2  808.64K    0.60%\n",
       "...         ...      ...      ...      ...      ...      ...      ...\n",
       "1371 2023-06-05  44700.0  44900.0  45350.0  44700.0  959.10K    0.00%\n",
       "1372 2023-06-06  44800.0  45000.0  45000.0  44300.0  846.10K    0.22%\n",
       "1373 2023-06-07  44350.0  44800.0  44900.0  44350.0  967.70K   -1.00%\n",
       "1374 2023-06-08  43700.0  44400.0  44500.0  43700.0    1.66M   -1.47%\n",
       "1375 2023-06-09  43450.0  43800.0  44050.0  43100.0    1.29M   -0.57%\n",
       "\n",
       "[1376 rows x 7 columns]"
      ]
     },
     "execution_count": 5,
     "metadata": {},
     "output_type": "execute_result"
    }
   ],
   "source": [
    "# Xem dữ liệu 10 dòng đầu\n",
    "df"
   ]
  },
  {
   "cell_type": "code",
   "execution_count": 6,
   "metadata": {},
   "outputs": [
    {
     "name": "stdout",
     "output_type": "stream",
     "text": [
      "<class 'pandas.core.frame.DataFrame'>\n",
      "RangeIndex: 1376 entries, 0 to 1375\n",
      "Data columns (total 7 columns):\n",
      " #   Column    Non-Null Count  Dtype         \n",
      "---  ------    --------------  -----         \n",
      " 0   Date      1376 non-null   datetime64[ns]\n",
      " 1   Price     1376 non-null   float64       \n",
      " 2   Open      1376 non-null   float64       \n",
      " 3   High      1376 non-null   float64       \n",
      " 4   Low       1376 non-null   float64       \n",
      " 5   Vol.      1376 non-null   object        \n",
      " 6   Change %  1376 non-null   object        \n",
      "dtypes: datetime64[ns](1), float64(4), object(2)\n",
      "memory usage: 75.4+ KB\n"
     ]
    }
   ],
   "source": [
    "# Xác định kiểu dữ liệu\n",
    "df.info()"
   ]
  },
  {
   "cell_type": "code",
   "execution_count": 7,
   "metadata": {},
   "outputs": [
    {
     "data": {
      "text/html": [
       "<div>\n",
       "<style scoped>\n",
       "    .dataframe tbody tr th:only-of-type {\n",
       "        vertical-align: middle;\n",
       "    }\n",
       "\n",
       "    .dataframe tbody tr th {\n",
       "        vertical-align: top;\n",
       "    }\n",
       "\n",
       "    .dataframe thead th {\n",
       "        text-align: right;\n",
       "    }\n",
       "</style>\n",
       "<table border=\"1\" class=\"dataframe\">\n",
       "  <thead>\n",
       "    <tr style=\"text-align: right;\">\n",
       "      <th></th>\n",
       "      <th>Price</th>\n",
       "      <th>Open</th>\n",
       "      <th>High</th>\n",
       "      <th>Low</th>\n",
       "    </tr>\n",
       "  </thead>\n",
       "  <tbody>\n",
       "    <tr>\n",
       "      <th>count</th>\n",
       "      <td>1376.000000</td>\n",
       "      <td>1376.000000</td>\n",
       "      <td>1376.000000</td>\n",
       "      <td>1376.000000</td>\n",
       "    </tr>\n",
       "    <tr>\n",
       "      <th>mean</th>\n",
       "      <td>32278.943387</td>\n",
       "      <td>32269.620494</td>\n",
       "      <td>32791.468750</td>\n",
       "      <td>31797.742224</td>\n",
       "    </tr>\n",
       "    <tr>\n",
       "      <th>std</th>\n",
       "      <td>6761.459190</td>\n",
       "      <td>6777.238135</td>\n",
       "      <td>6845.514012</td>\n",
       "      <td>6701.724389</td>\n",
       "    </tr>\n",
       "    <tr>\n",
       "      <th>min</th>\n",
       "      <td>16531.400000</td>\n",
       "      <td>16378.300000</td>\n",
       "      <td>17602.900000</td>\n",
       "      <td>15957.400000</td>\n",
       "    </tr>\n",
       "    <tr>\n",
       "      <th>25%</th>\n",
       "      <td>26882.325000</td>\n",
       "      <td>26787.000000</td>\n",
       "      <td>27246.200000</td>\n",
       "      <td>26557.400000</td>\n",
       "    </tr>\n",
       "    <tr>\n",
       "      <th>50%</th>\n",
       "      <td>31888.950000</td>\n",
       "      <td>31908.400000</td>\n",
       "      <td>32448.600000</td>\n",
       "      <td>31519.200000</td>\n",
       "    </tr>\n",
       "    <tr>\n",
       "      <th>75%</th>\n",
       "      <td>36037.225000</td>\n",
       "      <td>36010.000000</td>\n",
       "      <td>36722.300000</td>\n",
       "      <td>35535.200000</td>\n",
       "    </tr>\n",
       "    <tr>\n",
       "      <th>max</th>\n",
       "      <td>49000.000000</td>\n",
       "      <td>49500.000000</td>\n",
       "      <td>49950.000000</td>\n",
       "      <td>48100.000000</td>\n",
       "    </tr>\n",
       "  </tbody>\n",
       "</table>\n",
       "</div>"
      ],
      "text/plain": [
       "              Price          Open          High           Low\n",
       "count   1376.000000   1376.000000   1376.000000   1376.000000\n",
       "mean   32278.943387  32269.620494  32791.468750  31797.742224\n",
       "std     6761.459190   6777.238135   6845.514012   6701.724389\n",
       "min    16531.400000  16378.300000  17602.900000  15957.400000\n",
       "25%    26882.325000  26787.000000  27246.200000  26557.400000\n",
       "50%    31888.950000  31908.400000  32448.600000  31519.200000\n",
       "75%    36037.225000  36010.000000  36722.300000  35535.200000\n",
       "max    49000.000000  49500.000000  49950.000000  48100.000000"
      ]
     },
     "execution_count": 7,
     "metadata": {},
     "output_type": "execute_result"
    }
   ],
   "source": [
    "# Mô tả bộ dữ liệu\n",
    "df.describe()"
   ]
  },
  {
   "cell_type": "code",
   "execution_count": 8,
   "metadata": {},
   "outputs": [
    {
     "data": {
      "text/plain": [
       "count     1376.000000\n",
       "mean     32278.943387\n",
       "std       6761.459190\n",
       "min      16531.400000\n",
       "25%      26882.325000\n",
       "50%      31888.950000\n",
       "75%      36037.225000\n",
       "max      49000.000000\n",
       "Name: Price, dtype: float64"
      ]
     },
     "execution_count": 8,
     "metadata": {},
     "output_type": "execute_result"
    }
   ],
   "source": [
    "# Mô tả thuộc tính train \"Price\"\n",
    "df['Price'].describe()"
   ]
  },
  {
   "cell_type": "code",
   "execution_count": 9,
   "metadata": {},
   "outputs": [
    {
     "name": "stdout",
     "output_type": "stream",
     "text": [
      "Mode:  24873.7\n",
      "Variance:  45717330.37611623\n",
      "Median 31888.95\n",
      "Coefficient of Deviation:  0.20946965670069376\n",
      "Skewness 0.21620709700591495\n",
      "Kurtosis:  -0.388356368537341\n",
      "Range:  32468.6\n"
     ]
    }
   ],
   "source": [
    "import statistics as st\n",
    "from scipy.stats import skew\n",
    "from scipy.stats import kurtosis\n",
    "\n",
    "#Mode\n",
    "mode = st.mode(df['Price'])\n",
    "print(\"Mode: \", mode)\n",
    "\n",
    "#Variance\n",
    "var = st.variance(df['Price'])\n",
    "print(\"Variance: \", var)\n",
    "\n",
    "#Median (trung vị)\n",
    "median = st.median(df['Price'])\n",
    "print(\"Median\", median)\n",
    "\n",
    "#Coefficient of Deviation\n",
    "cv = st.stdev(df['Price'])/st.mean(df['Price'])\n",
    "print(\"Coefficient of Deviation: \",cv)\n",
    "\n",
    "#Skewness\n",
    "skew = skew(df['Price'])\n",
    "print(\"Skewness\", skew)\n",
    "\n",
    "#Kurtosis\n",
    "kurtosis = kurtosis(df['Price'])\n",
    "print(\"Kurtosis: \", kurtosis)\n",
    "\n",
    "#Range\n",
    "range = max(df['Price']) - min(df['Price'])\n",
    "print(\"Range: \", range)"
   ]
  },
  {
   "cell_type": "markdown",
   "metadata": {},
   "source": [
    "### Bước 4: Lập biểu đồ"
   ]
  },
  {
   "cell_type": "code",
   "execution_count": 10,
   "metadata": {},
   "outputs": [],
   "source": [
    "# Lấy dữ liệu\n",
    "df1 = pd.DataFrame(df, columns=['Date', 'Price'])\n",
    "# Chuyển cột Date làm index để lập biểu đồ so sánh về sau\n",
    "df1.index = df1.Date\n",
    "df1.drop('Date', axis=1, inplace=True)"
   ]
  },
  {
   "cell_type": "code",
   "execution_count": 11,
   "metadata": {},
   "outputs": [
    {
     "data": {
      "image/png": "[encoded data removed]",
      "text/plain": [
       "<Figure size 1000x500 with 1 Axes>"
      ]
     },
     "metadata": {},
     "output_type": "display_data"
    }
   ],
   "source": [
    "#Lập biểu đồ giá đóng\n",
    "plt.figure(figsize=(10,5))\n",
    "plt.plot(df1['Price'], label='Actual price', color='blue')\n",
    "# plt.title('BID stock market')\n",
    "plt.xlabel('Year')\n",
    "plt.ylabel('Price')\n",
    "plt.legend()\n",
    "plt.show()"
   ]
  },
  {
   "cell_type": "code",
   "execution_count": 12,
   "metadata": {},
   "outputs": [
    {
     "data": {
      "text/html": [
       "<div>\n",
       "<style scoped>\n",
       "    .dataframe tbody tr th:only-of-type {\n",
       "        vertical-align: middle;\n",
       "    }\n",
       "\n",
       "    .dataframe tbody tr th {\n",
       "        vertical-align: top;\n",
       "    }\n",
       "\n",
       "    .dataframe thead th {\n",
       "        text-align: right;\n",
       "    }\n",
       "</style>\n",
       "<table border=\"1\" class=\"dataframe\">\n",
       "  <thead>\n",
       "    <tr style=\"text-align: right;\">\n",
       "      <th></th>\n",
       "      <th>Price</th>\n",
       "    </tr>\n",
       "    <tr>\n",
       "      <th>Date</th>\n",
       "      <th></th>\n",
       "    </tr>\n",
       "  </thead>\n",
       "  <tbody>\n",
       "    <tr>\n",
       "      <th>2017-12-01</th>\n",
       "      <td>19516.3</td>\n",
       "    </tr>\n",
       "    <tr>\n",
       "      <th>2017-12-04</th>\n",
       "      <td>19516.3</td>\n",
       "    </tr>\n",
       "    <tr>\n",
       "      <th>2017-12-05</th>\n",
       "      <td>19057.0</td>\n",
       "    </tr>\n",
       "    <tr>\n",
       "      <th>2017-12-06</th>\n",
       "      <td>19018.8</td>\n",
       "    </tr>\n",
       "    <tr>\n",
       "      <th>2017-12-07</th>\n",
       "      <td>19133.6</td>\n",
       "    </tr>\n",
       "    <tr>\n",
       "      <th>...</th>\n",
       "      <td>...</td>\n",
       "    </tr>\n",
       "    <tr>\n",
       "      <th>2023-06-05</th>\n",
       "      <td>44700.0</td>\n",
       "    </tr>\n",
       "    <tr>\n",
       "      <th>2023-06-06</th>\n",
       "      <td>44800.0</td>\n",
       "    </tr>\n",
       "    <tr>\n",
       "      <th>2023-06-07</th>\n",
       "      <td>44350.0</td>\n",
       "    </tr>\n",
       "    <tr>\n",
       "      <th>2023-06-08</th>\n",
       "      <td>43700.0</td>\n",
       "    </tr>\n",
       "    <tr>\n",
       "      <th>2023-06-09</th>\n",
       "      <td>43450.0</td>\n",
       "    </tr>\n",
       "  </tbody>\n",
       "</table>\n",
       "<p>1376 rows × 1 columns</p>\n",
       "</div>"
      ],
      "text/plain": [
       "              Price\n",
       "Date               \n",
       "2017-12-01  19516.3\n",
       "2017-12-04  19516.3\n",
       "2017-12-05  19057.0\n",
       "2017-12-06  19018.8\n",
       "2017-12-07  19133.6\n",
       "...             ...\n",
       "2023-06-05  44700.0\n",
       "2023-06-06  44800.0\n",
       "2023-06-07  44350.0\n",
       "2023-06-08  43700.0\n",
       "2023-06-09  43450.0\n",
       "\n",
       "[1376 rows x 1 columns]"
      ]
     },
     "execution_count": 12,
     "metadata": {},
     "output_type": "execute_result"
    }
   ],
   "source": [
    "df1"
   ]
  }
 ],
 "metadata": {
  "kernelspec": {
   "display_name": "Python 3.11.0 64-bit",
   "language": "python",
   "name": "python3"
  },
  "language_info": {
   "codemirror_mode": {
    "name": "ipython",
    "version": 3
   },
   "file_extension": ".py",
   "mimetype": "text/x-python",
   "name": "python",
   "nbconvert_exporter": "python",
   "pygments_lexer": "ipython3",
   "version": "3.11.0"
  },
  "orig_nbformat": 4,
  "vscode": {
   "interpreter": {
    "hash": "228ec1c77332413f421e77c28617d1df6074d6a46921cdaeb15ed9feeb460bfe"
   }
  }
 },
 "nbformat": 4,
 "nbformat_minor": 2
}
